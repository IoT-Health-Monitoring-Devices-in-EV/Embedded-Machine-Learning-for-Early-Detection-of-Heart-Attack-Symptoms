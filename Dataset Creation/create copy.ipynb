{
 "cells": [
  {
   "cell_type": "code",
   "execution_count": 2,
   "metadata": {},
   "outputs": [],
   "source": [
    "import numpy as np\n",
    "import pandas as pd"
   ]
  },
  {
   "cell_type": "code",
   "execution_count": 3,
   "metadata": {},
   "outputs": [],
   "source": [
    "np.random.seed(42)"
   ]
  },
  {
   "cell_type": "code",
   "execution_count": 4,
   "metadata": {},
   "outputs": [],
   "source": [
    "num_rows = 50000"
   ]
  },
  {
   "cell_type": "code",
   "execution_count": 5,
   "metadata": {},
   "outputs": [],
   "source": [
    "yes_percentage = 0.33  # 33% for \"Yes\"\n",
    "no_percentage = yes_percentage - 0.05  # \"No\" will have 5% less\n",
    "remaining_percentage = 1 - (yes_percentage + no_percentage)  # Remaining for \"N/A\"\n",
    "\n",
    "class_counts = {\n",
    "    'Yes': int(yes_percentage * num_rows),\n",
    "    'No': int(no_percentage * num_rows),\n",
    "    'N/A': int(remaining_percentage * num_rows)\n",
    "}"
   ]
  },
  {
   "cell_type": "code",
   "execution_count": 6,
   "metadata": {},
   "outputs": [],
   "source": [
    "def generate_conditional_data(class_counts):\n",
    "    data = []\n",
    "    \n",
    "    # Track how many of each class we've added\n",
    "    counts = {'Yes': 0, 'No': 0, 'N/A': 0}\n",
    "\n",
    "    while len(data) < sum(class_counts.values()):\n",
    "        hr = np.random.uniform(60, 100)\n",
    "        spo2 = np.random.uniform(90, 100)\n",
    "        pulse_amplitude = np.random.uniform(0.5, 1.0)\n",
    "        prv = np.random.uniform(40, 100)\n",
    "        temperature = np.random.uniform(35.5, 38.5)\n",
    "        device_status = np.random.choice(['Online', 'Offline'])\n",
    "\n",
    "        # Determine heart attack risk using if-else logic\n",
    "        if (hr > 85) and (spo2 < 95) and (prv < 50) and (temperature > 37.5) and (counts['Yes'] < class_counts['Yes']):\n",
    "            heart_attack_risk = 'Yes'\n",
    "            counts['Yes'] += 1\n",
    "        elif (device_status == 'Online') and (counts['No'] < class_counts['No']):\n",
    "            heart_attack_risk = 'No'\n",
    "            counts['No'] += 1\n",
    "        elif counts['N/A'] < class_counts['N/A']:\n",
    "            heart_attack_risk = 'N/A'\n",
    "            counts['N/A'] += 1\n",
    "        else:\n",
    "            continue  # Skip if we have already filled the required counts\n",
    "        \n",
    "        # Append the generated row\n",
    "        data.append({\n",
    "            'HR (BPM)': hr,\n",
    "            'SpO2 (%)': spo2,\n",
    "            'Pulse Amplitude (AU)': pulse_amplitude,\n",
    "            'PRV (ms)': prv,\n",
    "            'Temperature (°C)': temperature,\n",
    "            'Device Status': device_status,\n",
    "            'Heart Attack Risk': heart_attack_risk\n",
    "        })\n",
    "\n",
    "    return pd.DataFrame(data)\n"
   ]
  },
  {
   "cell_type": "code",
   "execution_count": 41,
   "metadata": {},
   "outputs": [],
   "source": [
    "data = generate_conditional_data(class_counts)"
   ]
  },
  {
   "cell_type": "code",
   "execution_count": 42,
   "metadata": {},
   "outputs": [],
   "source": [
    "data = data.sample(frac=1, random_state=42).reset_index(drop=True)"
   ]
  },
  {
   "cell_type": "code",
   "execution_count": null,
   "metadata": {},
   "outputs": [],
   "source": [
    "print(\"Final Class Distribution:\")\n",
    "print(data['Heart Attack Risk'].value_counts())"
   ]
  },
  {
   "cell_type": "code",
   "execution_count": null,
   "metadata": {},
   "outputs": [],
   "source": [
    "# Save the dataset\n",
    "data.to_csv('synthetic_heart_attack_data_balanced.csv', index=False)\n",
    "print(\"\\nDataset saved as 'synthetic_heart_attack_data_balanced.csv'.\")"
   ]
  }
 ],
 "metadata": {
  "kernelspec": {
   "display_name": "tf",
   "language": "python",
   "name": "python3"
  },
  "language_info": {
   "codemirror_mode": {
    "name": "ipython",
    "version": 3
   },
   "file_extension": ".py",
   "mimetype": "text/x-python",
   "name": "python",
   "nbconvert_exporter": "python",
   "pygments_lexer": "ipython3",
   "version": "3.9.21"
  }
 },
 "nbformat": 4,
 "nbformat_minor": 2
}
