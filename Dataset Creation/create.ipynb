{
 "cells": [
  {
   "cell_type": "code",
   "execution_count": 1,
   "metadata": {},
   "outputs": [],
   "source": [
    "import numpy as np\n",
    "import pandas as pd"
   ]
  },
  {
   "cell_type": "code",
   "execution_count": 2,
   "metadata": {},
   "outputs": [],
   "source": [
    "np.random.seed(42)"
   ]
  },
  {
   "cell_type": "code",
   "execution_count": 3,
   "metadata": {},
   "outputs": [],
   "source": [
    "num_rows = 50000"
   ]
  },
  {
   "cell_type": "code",
   "execution_count": 4,
   "metadata": {},
   "outputs": [],
   "source": [
    "hr = np.random.uniform(60, 100, num_rows)\n",
    "spo2 = np.random.uniform(90, 100, num_rows)\n",
    "pulse_amplitude = np.random.uniform(0.5, 1.0, num_rows)\n",
    "prv = np.random.uniform(40, 100, num_rows)\n",
    "temperature = np.random.uniform(35.5, 38.5, num_rows)\n",
    "device_status = np.random.choice(['Online', 'Offline'], num_rows)"
   ]
  },
  {
   "cell_type": "code",
   "execution_count": 5,
   "metadata": {},
   "outputs": [],
   "source": [
    "heart_attack_risk = np.where(\n",
    "    (device_status == 'Online') & \n",
    "    (hr > 85) & \n",
    "    (spo2 < 95) & \n",
    "    (prv < 50) & \n",
    "    (temperature > 37.5),  # High temperature indicates risk\n",
    "    'Yes',\n",
    "    np.where(device_status == 'Online', 'No', 'N/A')\n",
    ")"
   ]
  },
  {
   "cell_type": "code",
   "execution_count": 6,
   "metadata": {},
   "outputs": [],
   "source": [
    "data = pd.DataFrame({\n",
    "    'HR (BPM)': hr,\n",
    "    'SpO2 (%)': spo2,\n",
    "    'Pulse Amplitude (AU)': pulse_amplitude,\n",
    "    'PRV (ms)': prv,\n",
    "    'Temperature (°C)': temperature,\n",
    "    'Device Status': device_status,\n",
    "    'Heart Attack Risk': heart_attack_risk\n",
    "})"
   ]
  },
  {
   "cell_type": "code",
   "execution_count": 7,
   "metadata": {},
   "outputs": [
    {
     "name": "stdout",
     "output_type": "stream",
     "text": [
      "    HR (BPM)   SpO2 (%)  Pulse Amplitude (AU)   PRV (ms)  Temperature (°C)  \\\n",
      "0  74.981605  98.472366              0.790390  44.152701         36.347764   \n",
      "1  98.028572  94.945170              0.763486  75.141805         36.876030   \n",
      "2  89.279758  91.954656              0.675518  87.932124         35.797646   \n",
      "3  83.946339  97.366418              0.746606  85.868386         36.840511   \n",
      "4  66.240746  94.186781              0.682548  90.243772         36.109244   \n",
      "\n",
      "  Device Status Heart Attack Risk  \n",
      "0       Offline               N/A  \n",
      "1       Offline               N/A  \n",
      "2        Online                No  \n",
      "3       Offline               N/A  \n",
      "4        Online                No  \n"
     ]
    }
   ],
   "source": [
    "print(data.head())"
   ]
  },
  {
   "cell_type": "code",
   "execution_count": 8,
   "metadata": {},
   "outputs": [],
   "source": [
    "data.to_csv('synthetic_heart_attack_data_with_temperature.csv', index=False)"
   ]
  }
 ],
 "metadata": {
  "kernelspec": {
   "display_name": "RTX-3050",
   "language": "python",
   "name": "python3"
  },
  "language_info": {
   "codemirror_mode": {
    "name": "ipython",
    "version": 3
   },
   "file_extension": ".py",
   "mimetype": "text/x-python",
   "name": "python",
   "nbconvert_exporter": "python",
   "pygments_lexer": "ipython3",
   "version": "3.9.21"
  }
 },
 "nbformat": 4,
 "nbformat_minor": 2
}
