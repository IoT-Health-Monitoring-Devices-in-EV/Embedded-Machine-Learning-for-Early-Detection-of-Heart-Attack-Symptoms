{
 "cells": [
  {
   "cell_type": "code",
   "execution_count": 42,
   "metadata": {},
   "outputs": [],
   "source": [
    "import numpy as np\n",
    "import pandas as pd"
   ]
  },
  {
   "cell_type": "code",
   "execution_count": 47,
   "metadata": {},
   "outputs": [],
   "source": [
    "def generate_synthetic_data(samples=1000):\n",
    "    np.random.seed(42)  # For reproducibility\n",
    "    data = []\n",
    "    \n",
    "    for _ in range(samples // 2):  # Ensure balanced dataset\n",
    "        # Normal case (Label 0)\n",
    "        heart_rate = np.random.normal(75, 10)  # Avg resting HR\n",
    "        spo2 = np.random.normal(98, 1.5)  # Healthy SpO2\n",
    "        gsr = np.random.normal(10, 3)  # Normal stress level\n",
    "        temp = np.random.normal(36.5, 0.5)  # Normal body temperature\n",
    "        label = 0  # Normal case\n",
    "        \n",
    "        data.append([heart_rate, spo2, gsr, temp, label])\n",
    "        \n",
    "        # At-risk case (Label 1)\n",
    "        heart_rate = np.random.normal(95, 12)  # Higher due to stress or hypoxia\n",
    "        spo2 = np.random.normal(93, 2)  # Mild oxygen drop\n",
    "        gsr = np.random.normal(18, 5)  # High stress response\n",
    "        temp = np.random.normal(37.5, 0.7)  # Slight fever due to stress response\n",
    "        \n",
    "        # Adjust based on medical dependencies\n",
    "        if spo2 < 95:\n",
    "            heart_rate += np.random.uniform(5, 15)  # Compensatory HR increase\n",
    "        if gsr > 15:\n",
    "            temp += np.random.uniform(0.2, 0.5)  # Stress-induced temp rise\n",
    "        \n",
    "        label = 1 if (heart_rate > 90 and spo2 < 96 and gsr > 12) else 0  # More realistic label dependency\n",
    "        \n",
    "        data.append([heart_rate, spo2, gsr, temp, label])\n",
    "    \n",
    "    # Convert to DataFrame\n",
    "    df = pd.DataFrame(data, columns=[\"Heart_Rate\", \"SpO2\", \"GSR\", \"Temperature\", \"Label\"])\n",
    "    return df"
   ]
  },
  {
   "cell_type": "code",
   "execution_count": 48,
   "metadata": {},
   "outputs": [],
   "source": [
    "dataset = generate_synthetic_data(50000)"
   ]
  },
  {
   "cell_type": "code",
   "execution_count": 49,
   "metadata": {},
   "outputs": [
    {
     "name": "stdout",
     "output_type": "stream",
     "text": [
      "Label\n",
      "0    32046\n",
      "1    17954\n",
      "Name: count, dtype: int64\n"
     ]
    }
   ],
   "source": [
    "print(dataset[\"Label\"].value_counts())"
   ]
  },
  {
   "cell_type": "code",
   "execution_count": null,
   "metadata": {},
   "outputs": [],
   "source": [
    "dataset.to_csv('synthetic_heart_attack_data_balanced.csv', index=False)"
   ]
  },
  {
   "cell_type": "code",
   "execution_count": null,
   "metadata": {},
   "outputs": [
    {
     "name": "stdout",
     "output_type": "stream",
     "text": [
      "Updated synthetic dataset with medical dependencies generated successfully!\n"
     ]
    }
   ],
   "source": [
    "print(\"Updated synthetic dataset with medical dependencies generated successfully!\")"
   ]
  }
 ],
 "metadata": {
  "kernelspec": {
   "display_name": "RTX-4070",
   "language": "python",
   "name": "python3"
  },
  "language_info": {
   "codemirror_mode": {
    "name": "ipython",
    "version": 3
   },
   "file_extension": ".py",
   "mimetype": "text/x-python",
   "name": "python",
   "nbconvert_exporter": "python",
   "pygments_lexer": "ipython3",
   "version": "3.10.16"
  }
 },
 "nbformat": 4,
 "nbformat_minor": 2
}
