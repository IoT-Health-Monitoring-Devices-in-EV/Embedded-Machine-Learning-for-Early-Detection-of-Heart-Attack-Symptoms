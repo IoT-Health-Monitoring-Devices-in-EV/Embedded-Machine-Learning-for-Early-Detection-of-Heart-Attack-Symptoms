{
 "cells": [
  {
   "cell_type": "code",
   "execution_count": 17,
   "metadata": {},
   "outputs": [],
   "source": [
    "import numpy as np\n",
    "import pandas as pd"
   ]
  },
  {
   "cell_type": "code",
   "execution_count": 18,
   "metadata": {},
   "outputs": [],
   "source": [
    "np.random.seed(42)"
   ]
  },
  {
   "cell_type": "code",
   "execution_count": 19,
   "metadata": {},
   "outputs": [],
   "source": [
    "num_rows = 50000"
   ]
  },
  {
   "cell_type": "code",
   "execution_count": 32,
   "metadata": {},
   "outputs": [],
   "source": [
    "def generate_conditional_data(num_rows):\n",
    "    yes_percentage = 0.40  # 40% for \"Yes\"\n",
    "    no_percentage = yes_percentage - 0.05  # \"No\" will have 5% less\n",
    "    remaining_percentage = 1 - (yes_percentage + no_percentage)  # Remaining for \"N/A\"\n",
    "\n",
    "    class_counts = {\n",
    "        'Yes': int(yes_percentage * num_rows),\n",
    "        'No': int(no_percentage * num_rows),\n",
    "        'N/A': int(remaining_percentage * num_rows)\n",
    "    }\n",
    "\n",
    "    data = []\n",
    "    counts = {'Yes': 0, 'No': 0, 'N/A': 0}\n",
    "\n",
    "    while sum(counts.values()) < num_rows:\n",
    "        device_status = np.random.choice([\"Online\", \"Offline\"])  \n",
    "\n",
    "        # Assign \"N/A\" immediately if Offline and still needed\n",
    "        if device_status == \"Offline\" and counts['N/A'] < class_counts['N/A']:\n",
    "            data.append({\n",
    "                \"Device_Status\": device_status,\n",
    "                \"Heart_Rate_BPM\": np.nan,\n",
    "                \"HRV_ms\": np.nan,\n",
    "                \"SpO2_Percentage\": np.nan,\n",
    "                \"Skin_Temperature_C\": np.nan,\n",
    "                \"EDA_GSR\": np.nan,\n",
    "                \"Ambient_Temperature_C\": np.nan,\n",
    "                \"Humidity_Percentage\": np.nan,\n",
    "                \"IMU_X\": np.nan,\n",
    "                \"IMU_Y\": np.nan,\n",
    "                \"IMU_Z\": np.nan,\n",
    "                \"Stress_Level\": np.nan,\n",
    "                \"Heart Attack Risk\": \"N/A\"\n",
    "            })\n",
    "            counts['N/A'] += 1\n",
    "            continue  # Skip further processing for Offline devices\n",
    "\n",
    "        # Generate realistic physiological & environmental parameters\n",
    "        hr = np.random.uniform(60, 120)  # Normal to elevated heart rate\n",
    "        spo2 = np.random.uniform(90, 100)  # Healthy oxygen levels\n",
    "        hrv = np.random.uniform(30, 100)  # Heart rate variability (higher is better)\n",
    "        temperature = np.random.uniform(35.5, 37.8)  # Normal body temperature\n",
    "        eda_gsr = np.random.uniform(0.2, 10.0)  # Electrodermal activity (stress-related)\n",
    "        ambient_temp = np.random.uniform(20.0, 35.0)  # Normal room temperature\n",
    "        humidity = np.random.uniform(30, 80)  # Normal humidity range\n",
    "\n",
    "        # IMU motion activity (3-axis acceleration, simulating body movement)\n",
    "        imu_x = np.random.uniform(-3, 3)\n",
    "        imu_y = np.random.uniform(-3, 3)\n",
    "        imu_z = np.random.uniform(-3, 3)\n",
    "\n",
    "        # Calculate stress level (HRV-based with EDA influence)\n",
    "        stress_level = (100 - hrv) * 0.5 + (eda_gsr * 10)\n",
    "\n",
    "        # Assign \"Heart Attack Risk\" while ensuring balance\n",
    "        if counts['Yes'] < class_counts['Yes']:\n",
    "            heart_attack_risk = 'Yes'\n",
    "            counts['Yes'] += 1\n",
    "        elif counts['No'] < class_counts['No']:\n",
    "            heart_attack_risk = 'No'\n",
    "            counts['No'] += 1\n",
    "        else:\n",
    "            heart_attack_risk = 'N/A'\n",
    "            counts['N/A'] += 1  # This should rarely happen now\n",
    "\n",
    "        data.append({\n",
    "            \"Device_Status\": device_status,\n",
    "            \"Heart_Rate_BPM\": hr,\n",
    "            \"HRV_ms\": hrv,\n",
    "            \"SpO2_Percentage\": spo2,\n",
    "            \"Skin_Temperature_C\": temperature,\n",
    "            \"EDA_GSR\": eda_gsr,\n",
    "            \"Ambient_Temperature_C\": ambient_temp,\n",
    "            \"Humidity_Percentage\": humidity,\n",
    "            \"IMU_X\": imu_x,\n",
    "            \"IMU_Y\": imu_y,\n",
    "            \"IMU_Z\": imu_z,\n",
    "            \"Stress_Level\": stress_level,\n",
    "            \"Heart Attack Risk\": heart_attack_risk\n",
    "        })\n",
    "\n",
    "    return pd.DataFrame(data)"
   ]
  },
  {
   "cell_type": "code",
   "execution_count": 33,
   "metadata": {},
   "outputs": [],
   "source": [
    "data = generate_conditional_data(num_rows)"
   ]
  },
  {
   "cell_type": "code",
   "execution_count": 34,
   "metadata": {},
   "outputs": [],
   "source": [
    "data = data.sample(frac=1, random_state=42).reset_index(drop=True)"
   ]
  },
  {
   "cell_type": "code",
   "execution_count": 35,
   "metadata": {},
   "outputs": [
    {
     "name": "stdout",
     "output_type": "stream",
     "text": [
      "Final Class Distribution:\n",
      "Heart Attack Risk\n",
      "Yes    20000\n",
      "No     17500\n",
      "N/A    12500\n",
      "Name: count, dtype: int64\n"
     ]
    }
   ],
   "source": [
    "print(\"Final Class Distribution:\")\n",
    "print(data['Heart Attack Risk'].value_counts())"
   ]
  },
  {
   "cell_type": "code",
   "execution_count": 36,
   "metadata": {},
   "outputs": [
    {
     "name": "stdout",
     "output_type": "stream",
     "text": [
      "\n",
      "Dataset saved as 'synthetic_heart_attack_data_balanced.csv'.\n"
     ]
    }
   ],
   "source": [
    "# Save the dataset\n",
    "data.to_csv('synthetic_heart_attack_data_balanced.csv', index=False)\n",
    "print(\"\\nDataset saved as 'synthetic_heart_attack_data_balanced.csv'.\")"
   ]
  }
 ],
 "metadata": {
  "kernelspec": {
   "display_name": "RTX-3050",
   "language": "python",
   "name": "python3"
  },
  "language_info": {
   "codemirror_mode": {
    "name": "ipython",
    "version": 3
   },
   "file_extension": ".py",
   "mimetype": "text/x-python",
   "name": "python",
   "nbconvert_exporter": "python",
   "pygments_lexer": "ipython3",
   "version": "3.9.21"
  }
 },
 "nbformat": 4,
 "nbformat_minor": 2
}
