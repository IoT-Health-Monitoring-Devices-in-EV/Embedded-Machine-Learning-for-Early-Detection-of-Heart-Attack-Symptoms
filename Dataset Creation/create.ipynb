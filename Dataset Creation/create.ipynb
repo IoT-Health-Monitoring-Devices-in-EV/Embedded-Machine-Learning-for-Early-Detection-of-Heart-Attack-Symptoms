{
 "cells": [
  {
   "cell_type": "code",
   "execution_count": 19,
   "metadata": {},
   "outputs": [],
   "source": [
    "import numpy as np\n",
    "import pandas as pd"
   ]
  },
  {
   "cell_type": "code",
   "execution_count": 20,
   "metadata": {},
   "outputs": [],
   "source": [
    "np.random.seed(42)"
   ]
  },
  {
   "cell_type": "code",
   "execution_count": 21,
   "metadata": {},
   "outputs": [],
   "source": [
    "num_rows = 50000"
   ]
  },
  {
   "cell_type": "code",
   "execution_count": 22,
   "metadata": {},
   "outputs": [],
   "source": [
    "yes_percentage = 0.38\n",
    "no_percentage = 0.37\n",
    "remaining_percentage = 1 - (yes_percentage + no_percentage)  # Remaining for \"N/A\"\n",
    "\n",
    "class_counts = {\n",
    "    'Yes': int(yes_percentage * num_rows),\n",
    "    'No': int(no_percentage * num_rows),\n",
    "    'N/A': int(remaining_percentage * num_rows)\n",
    "}"
   ]
  },
  {
   "cell_type": "code",
   "execution_count": 23,
   "metadata": {},
   "outputs": [],
   "source": [
    "def generate_conditional_data(class_counts):\n",
    "    data = []\n",
    "\n",
    "    # Generate 'Yes' cases (Heart Attack Risk)\n",
    "    for _ in range(class_counts['Yes']):\n",
    "        max30102_status = np.random.choice([\"Online\", \"Offline\"], p=[0.9, 0.1])\n",
    "        tmp117_status = np.random.choice([\"Online\", \"Offline\"], p=[0.9, 0.1])\n",
    "        gsr_status = np.random.choice([\"Online\", \"Offline\"], p=[0.9, 0.1])\n",
    "\n",
    "        hr = np.random.normal(90, 5) if max30102_status == \"Online\" else 0\n",
    "        spo2 = np.random.normal(93, 1.5) if max30102_status == \"Online\" else 0\n",
    "        prv = np.random.normal(45, 5) if max30102_status == \"Online\" else 0\n",
    "        temperature = np.random.normal(38, 0.5) if tmp117_status == \"Online\" else 0\n",
    "        gsr_value = np.random.uniform(2.0, 10.0) if gsr_status == \"Online\" else 0\n",
    "\n",
    "        data.append([hr, spo2, prv, temperature, gsr_value, \n",
    "                     max30102_status, tmp117_status, gsr_status, 'Yes'])\n",
    "\n",
    "    # Generate 'No' cases (Healthy)\n",
    "    for _ in range(class_counts['No']):\n",
    "        max30102_status = np.random.choice([\"Online\", \"Offline\"], p=[0.9, 0.1])\n",
    "        tmp117_status = np.random.choice([\"Online\", \"Offline\"], p=[0.9, 0.1])\n",
    "        gsr_status = np.random.choice([\"Online\", \"Offline\"], p=[0.9, 0.1])\n",
    "\n",
    "        hr = np.random.normal(75, 5) if max30102_status == \"Online\" else 0\n",
    "        spo2 = np.random.normal(98, 1) if max30102_status == \"Online\" else 0\n",
    "        prv = np.random.normal(60, 5) if max30102_status == \"Online\" else 0\n",
    "        temperature = np.random.normal(36.8, 0.3) if tmp117_status == \"Online\" else 0\n",
    "        gsr_value = np.random.uniform(0.5, 5.0) if gsr_status == \"Online\" else 0\n",
    "\n",
    "        data.append([hr, spo2, prv, temperature, gsr_value, \n",
    "                     max30102_status, tmp117_status, gsr_status, 'No'])\n",
    "\n",
    "    # Generate 'N/A' cases (All Sensors Offline → All values = 0)\n",
    "    for _ in range(class_counts['N/A']):\n",
    "        data.append([0, 0, 0, 0, 0, \"Offline\", \"Offline\", \"Offline\", 'N/A'])\n",
    "\n",
    "    # Convert to DataFrame\n",
    "    df = pd.DataFrame(data, columns=[\n",
    "        'HR (BPM)', 'SpO2 (%)', 'PRV (ms)', 'Temperature (°C)', 'GSR (µS)',\n",
    "        'MAX30102 Status', 'TMP117 Status', 'GSR Status', 'Heart Attack Risk'\n",
    "    ])\n",
    "\n",
    "    return df"
   ]
  },
  {
   "cell_type": "code",
   "execution_count": 24,
   "metadata": {},
   "outputs": [],
   "source": [
    "data = generate_conditional_data(class_counts)"
   ]
  },
  {
   "cell_type": "code",
   "execution_count": 25,
   "metadata": {},
   "outputs": [],
   "source": [
    "data = data.sample(frac=1, random_state=42).reset_index(drop=True)"
   ]
  },
  {
   "cell_type": "code",
   "execution_count": 26,
   "metadata": {},
   "outputs": [
    {
     "name": "stdout",
     "output_type": "stream",
     "text": [
      "Final Class Distribution:\n",
      "Heart Attack Risk\n",
      "Yes    19000\n",
      "No     18500\n",
      "N/A    12500\n",
      "Name: count, dtype: int64\n"
     ]
    }
   ],
   "source": [
    "print(\"Final Class Distribution:\")\n",
    "print(data['Heart Attack Risk'].value_counts())"
   ]
  },
  {
   "cell_type": "code",
   "execution_count": 27,
   "metadata": {},
   "outputs": [
    {
     "name": "stdout",
     "output_type": "stream",
     "text": [
      "\n",
      "Dataset saved as 'synthetic_heart_attack_data_balanced.csv'.\n"
     ]
    }
   ],
   "source": [
    "# Save the dataset\n",
    "data.to_csv('synthetic_heart_attack_data_balanced.csv', index=False)\n",
    "print(\"\\nDataset saved as 'synthetic_heart_attack_data_balanced.csv'.\")"
   ]
  }
 ],
 "metadata": {
  "kernelspec": {
   "display_name": "RTX-3050",
   "language": "python",
   "name": "python3"
  },
  "language_info": {
   "codemirror_mode": {
    "name": "ipython",
    "version": 3
   },
   "file_extension": ".py",
   "mimetype": "text/x-python",
   "name": "python",
   "nbconvert_exporter": "python",
   "pygments_lexer": "ipython3",
   "version": "3.9.21"
  }
 },
 "nbformat": 4,
 "nbformat_minor": 2
}
