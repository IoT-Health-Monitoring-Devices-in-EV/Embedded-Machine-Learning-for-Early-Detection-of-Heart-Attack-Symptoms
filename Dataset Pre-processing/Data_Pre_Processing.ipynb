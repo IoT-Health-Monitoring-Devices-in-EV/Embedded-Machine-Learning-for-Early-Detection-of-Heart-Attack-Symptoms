{
 "cells": [
  {
   "cell_type": "code",
   "execution_count": 76,
   "metadata": {},
   "outputs": [],
   "source": [
    "import pandas as pd\n",
    "import numpy as np\n",
    "from sklearn.preprocessing import MinMaxScaler, LabelEncoder"
   ]
  },
  {
   "cell_type": "code",
   "execution_count": 77,
   "metadata": {},
   "outputs": [],
   "source": [
    "data = pd.read_csv('../Dataset Creation/synthetic_heart_attack_data_balanced.csv')"
   ]
  },
  {
   "cell_type": "code",
   "execution_count": 78,
   "metadata": {},
   "outputs": [],
   "source": [
    "numerical_cols = [\n",
    "    \"Heart_Rate_BPM\", \"HRV_ms\", \"SpO2_Percentage\", \"Skin_Temperature_C\", \n",
    "    \"EDA_GSR\", \"Ambient_Temperature_C\", \"Humidity_Percentage\", \"IMU_X\", \"IMU_Y\", \"IMU_Z\", \"Stress_Level\"\n",
    "]\n",
    "data[numerical_cols] = data[numerical_cols].fillna(-1)"
   ]
  },
  {
   "cell_type": "code",
   "execution_count": 79,
   "metadata": {},
   "outputs": [],
   "source": [
    "data.loc[data[\"Device_Status\"] == \"Offline\", [\"IMU_X\", \"IMU_Y\", \"IMU_Z\"]] = 0"
   ]
  },
  {
   "cell_type": "code",
   "execution_count": 80,
   "metadata": {},
   "outputs": [],
   "source": [
    "categorical_cols = [\"Device_Status\", \"Heart Attack Risk\"]\n",
    "data[categorical_cols] = data[categorical_cols].fillna(\"Unknown\")"
   ]
  },
  {
   "cell_type": "code",
   "execution_count": 81,
   "metadata": {},
   "outputs": [],
   "source": [
    "data[numerical_cols] = data[numerical_cols].astype(float)"
   ]
  },
  {
   "cell_type": "code",
   "execution_count": 82,
   "metadata": {},
   "outputs": [],
   "source": [
    "# Handle outliers by capping values\n",
    "outlier_limits = {\n",
    "    \"Heart_Rate_BPM\": (40, 200),\n",
    "    \"HRV_ms\": (10, 150),\n",
    "    \"SpO2_Percentage\": (70, 100),\n",
    "    \"Skin_Temperature_C\": (34, 40),\n",
    "    \"EDA_GSR\": (0.1, 20),\n",
    "    \"Ambient_Temperature_C\": (10, 45),\n",
    "    \"Humidity_Percentage\": (10, 100)\n",
    "}\n",
    "for col, (low, high) in outlier_limits.items():\n",
    "    data[col] = np.clip(data[col], low, high)"
   ]
  },
  {
   "cell_type": "code",
   "execution_count": 83,
   "metadata": {},
   "outputs": [],
   "source": [
    "# Normalize numerical columns (Min-Max Scaling)\n",
    "scaler = MinMaxScaler()\n",
    "data[numerical_cols] = scaler.fit_transform(data[numerical_cols])"
   ]
  },
  {
   "cell_type": "code",
   "execution_count": 84,
   "metadata": {},
   "outputs": [],
   "source": [
    "# Encode categorical values\n",
    "encoder = LabelEncoder()\n",
    "data[\"Heart Attack Risk\"] = encoder.fit_transform(data[\"Heart Attack Risk\"])"
   ]
  },
  {
   "cell_type": "code",
   "execution_count": 85,
   "metadata": {},
   "outputs": [],
   "source": [
    "data = data.sample(frac=1, random_state=42).reset_index(drop=True)"
   ]
  },
  {
   "cell_type": "code",
   "execution_count": 86,
   "metadata": {},
   "outputs": [
    {
     "name": "stdout",
     "output_type": "stream",
     "text": [
      "Class Distribution:\n",
      "Heart Attack Risk\n",
      "2    20000\n",
      "0    17500\n",
      "1    12500\n",
      "Name: count, dtype: int64\n"
     ]
    }
   ],
   "source": [
    "# Print class distribution\n",
    "print(\"Class Distribution:\")\n",
    "print(data[\"Heart Attack Risk\"].value_counts())"
   ]
  },
  {
   "cell_type": "code",
   "execution_count": 87,
   "metadata": {},
   "outputs": [],
   "source": [
    "data.to_csv(\"synthetic_heart_attack_data_balanced_preprocess.csv\", index=False)"
   ]
  }
 ],
 "metadata": {
  "kernelspec": {
   "display_name": "RTX-3050",
   "language": "python",
   "name": "python3"
  },
  "language_info": {
   "codemirror_mode": {
    "name": "ipython",
    "version": 3
   },
   "file_extension": ".py",
   "mimetype": "text/x-python",
   "name": "python",
   "nbconvert_exporter": "python",
   "pygments_lexer": "ipython3",
   "version": "3.9.21"
  }
 },
 "nbformat": 4,
 "nbformat_minor": 2
}
